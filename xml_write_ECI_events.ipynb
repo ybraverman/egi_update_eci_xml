{
 "cells": [
  {
   "cell_type": "code",
   "execution_count": 123,
   "id": "a8b51b95",
   "metadata": {},
   "outputs": [
    {
     "name": "stdout",
     "output_type": "stream",
     "text": [
      "labelsStandard\n",
      "celtype1\n",
      "labelsOddball\n",
      "celtype2\n"
     ]
    }
   ],
   "source": [
    "#User Inputs\n",
    "\n",
    "# set path for file where .mffs live\n",
    "file_path =r\"C:\\Users\\ch220650\\Downloads\\AdultPilot\"; \n",
    "# set the CELL codes you need to insert\n",
    "labels = [\"Standard\",\"Oddball\"]\n",
    "# set the corresponding cel_type #s for these codes\n",
    "cel_type = [\"1\", \"2\"]"
   ]
  },
  {
   "cell_type": "code",
   "execution_count": null,
   "id": "5030449c",
   "metadata": {},
   "outputs": [],
   "source": [
    "# importing element tree under alias of ET\n",
    "import xml.etree.ElementTree as ET\n",
    "from xml.etree.ElementTree import ElementTree    \n",
    "#from xml.dom import minidom\n",
    "import os\n",
    "ET.register_namespace('', \"http://www.egi.com/event_mff\")\n",
    "ET.register_namespace('ows', \"http://www.opengis.net/ows/1.1\")\n",
    "ET.register_namespace('xlink', \"http://www.w3.org/1999/xlink\")\n",
    "ET.register_namespace('xsi', \"http://www.w3.org/2001/XMLSchema-instance\")\n",
    "ET.register_namespace('gml', \"http://www.opengis.net/gml\")"
   ]
  },
  {
   "cell_type": "code",
   "execution_count": 124,
   "id": "a4140955",
   "metadata": {},
   "outputs": [
    {
     "name": "stdout",
     "output_type": "stream",
     "text": [
      "01_Adult_Pilot_20230925_043507.mff\n",
      "03_Adult_Pilot_20230927_115248.mff\n",
      "04_Adult_Pilot_20230929_104751.mff\n",
      "0926-01_20230926_035442.mff\n"
     ]
    }
   ],
   "source": [
    "#loop through files in direcotry\n",
    "\n",
    "for filename in os.listdir(file_path):\n",
    "    f = os.path.join(file_path, filename)\n",
    "\n",
    "    if filename.endswith('.mff'):\n",
    "        print(filename)\n",
    "        full_path = os.path.join(f,'Events_ECI TCP-IP 55513.xml')\n",
    "        \n",
    "        #Passing the path of the xml document to enable parsing process\n",
    "        tree = ET.parse(full_path)\n",
    "        root = tree.getroot()\n",
    "        \n",
    "        # for each CELL event we need to add, add an element to true with subelements matching structure of mff ECI file\n",
    "        for (condition, c_type) in zip(labels,cel_type):\n",
    "            # create event\n",
    "            eventElement = ET.Element(\"event\")\n",
    "            \n",
    "            # add beginTime\n",
    "            begSub = ET.SubElement(eventElement, \"beginTime\")\n",
    "            begSub.text = \"2023-10-09T22:38:01.063581+09:00\" #dummy datetime\n",
    "            \n",
    "            # add duration - value hard coded to 1000\n",
    "            durationSub = ET.SubElement(eventElement,\"duration\")\n",
    "            durationSub.text = \"1000\"\n",
    "            \n",
    "            #add code - value hardcoded to CELL\n",
    "            codeSub = ET.SubElement(eventElement,\"code\")\n",
    "            codeSub.text = \"CELL\"\n",
    "            \n",
    "            #add label - value pulled from user input\n",
    "            labelSub = ET.SubElement(eventElement,\"label\")\n",
    "            labelSub.text = condition\n",
    "            \n",
    "            #add description\n",
    "            descriptionSub = ET.SubElement(eventElement,\"description\")\n",
    "            \n",
    "            #add keys with specific key subelement w/ value from cel_type above\n",
    "            keysSub = ET.SubElement(eventElement,\"keys\")\n",
    "            keySub = ET.SubElement(keysSub,\"key\")\n",
    "            keyCodeSub = ET.SubElement(keySub,\"keyCode\")\n",
    "            keyCodeSub.text = \"cel#\"\n",
    "            keydescription = ET.SubElement(keySub,\"description\")\n",
    "            keydata = ET.SubElement(keySub, 'data', dataType='short')\n",
    "            keydata.text = c_type\n",
    "\n",
    "            # Append the new \"data\" elements to the root element of the XML document\n",
    "            root.append(eventElement)\n",
    "\n",
    "        #for each participant, write new ECI file\n",
    "        tree.write(full_path, encoding=\"utf-8\", xml_declaration=True)\n",
    "\n",
    "\n",
    " \n"
   ]
  },
  {
   "cell_type": "code",
   "execution_count": null,
   "id": "6bab754f",
   "metadata": {},
   "outputs": [],
   "source": []
  },
  {
   "cell_type": "code",
   "execution_count": null,
   "id": "be105d16",
   "metadata": {},
   "outputs": [],
   "source": []
  }
 ],
 "metadata": {
  "kernelspec": {
   "display_name": "Python 3 (ipykernel)",
   "language": "python",
   "name": "python3"
  },
  "language_info": {
   "codemirror_mode": {
    "name": "ipython",
    "version": 3
   },
   "file_extension": ".py",
   "mimetype": "text/x-python",
   "name": "python",
   "nbconvert_exporter": "python",
   "pygments_lexer": "ipython3",
   "version": "3.7.0"
  }
 },
 "nbformat": 4,
 "nbformat_minor": 5
}
